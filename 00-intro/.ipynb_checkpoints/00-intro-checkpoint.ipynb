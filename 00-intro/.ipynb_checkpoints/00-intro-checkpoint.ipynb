{
 "cells": [
  {
   "cell_type": "markdown",
   "metadata": {
    "deletable": false,
    "editable": false,
    "nbgrader": {
     "cell_type": "markdown",
     "checksum": "fae6987852c8c2d652b547e76fb869d1",
     "grade": false,
     "grade_id": "cell-0abebee53341351a",
     "locked": true,
     "schema_version": 3,
     "solution": false,
     "task": false
    }
   },
   "source": [
    "ELEC-E5550 - Statistical Natural Language Processing\n",
    "# SET 0: Intro\n",
    "\n",
    "## Released: 14.01.2021 at 12:00\n",
    "## Deadline: 18.01.2021 at 23:55"
   ]
  },
  {
   "cell_type": "markdown",
   "metadata": {
    "deletable": false,
    "editable": false,
    "nbgrader": {
     "cell_type": "markdown",
     "checksum": "331a965e51b91bd6537c17dc224ccad1",
     "grade": false,
     "grade_id": "cell-f32c979330946566",
     "locked": true,
     "schema_version": 3,
     "solution": false,
     "task": false
    }
   },
   "source": [
    "# Hello and welcome to our course!\n",
    "\n",
    "This assignment helps both you and us make sure that all the basic things needed for the homework assignments are clear and working. We want to introduce you to the general notebooks workflow and to show how to deal with specific types of tasks you'll encounter in future assignments.\n",
    "\n",
    "In the notebooks, we have 3 levels of tasks: easy/medium/hard. They cost 1/3/5 points. This notebook contains only easy and medium tasks. The submission of this assignment will give you 6 bonus homework points (regardless of the points you'll get in the notebook itself)."
   ]
  },
  {
   "cell_type": "markdown",
   "metadata": {
    "deletable": false,
    "editable": false,
    "nbgrader": {
     "cell_type": "markdown",
     "checksum": "9f70feb978ee12d0d377b15323637e49",
     "grade": false,
     "grade_id": "cell-d603c3276eafb993",
     "locked": true,
     "schema_version": 3,
     "solution": false,
     "task": false
    }
   },
   "source": [
    "# Table of contents\n",
    "\n",
    "* [Task 1: INTRODUCE YOURSELF](#task_1)\n",
    "* [Task 2: DISPLAY AN IMAGE](#task_2)\n",
    "* [Task 3: ENCODE TO PIG LATIN](#task_3)\n",
    "* [Task 4: DECODE FROM PIG LATIN](#task_4)\n",
    "* [Submission instructions](#validate_and_submit)"
   ]
  },
  {
   "cell_type": "markdown",
   "metadata": {
    "deletable": false,
    "editable": false,
    "nbgrader": {
     "cell_type": "markdown",
     "checksum": "4ef52a6dd0c33e8a42ede832f4284559",
     "grade": false,
     "grade_id": "cell-344e634d734f845f",
     "locked": true,
     "schema_version": 3,
     "solution": false,
     "task": false
    }
   },
   "source": [
    "## Task 1 <a class=\"anchor\" id=\"task_1\"></a>\n",
    "### INTRODUCE YOURSELF\n",
    "First things first, make an introduction. Type in your name and your student number in the cell below marked with **YOUR ANSWER HERE**.\n",
    "\n",
    "This task shows how to handle the manually graded type of tasks."
   ]
  },
  {
   "cell_type": "markdown",
   "metadata": {
    "deletable": false,
    "nbgrader": {
     "cell_type": "markdown",
     "checksum": "d4c4a7fdff92726755d8b89df5eda43d",
     "grade": true,
     "grade_id": "stident_id",
     "locked": false,
     "points": 1,
     "schema_version": 3,
     "solution": true,
     "task": false
    }
   },
   "source": []
  },
  {
   "cell_type": "markdown",
   "metadata": {
    "deletable": false,
    "editable": false,
    "nbgrader": {
     "cell_type": "markdown",
     "checksum": "78959dab9fe64463685e625964252424",
     "grade": false,
     "grade_id": "cell-d14104064c3c320b",
     "locked": true,
     "schema_version": 3,
     "solution": false,
     "task": false
    }
   },
   "source": [
    "## TASK 2 <a class=\"anchor\" id=\"task_2\"></a>\n",
    "### DISPLAY AN IMAGE\n",
    "Let's start by uploading an image file and displaying it in the notebook. The file is located in the **\"coursedata\"** directory. The cell below contains the code that loads the image to the notebook. In the cell after it, (\"YOUR ANSWER HERE\" cell), type in the following command to display this image: \n",
    "\n",
    "`display(image)`\n",
    "\n",
    "Don't forget to delete `raise NotImplementedError()` when you're done with your answer!\n",
    "\n",
    "This task checks that everyone has the access to the homework data directory."
   ]
  },
  {
   "cell_type": "code",
   "execution_count": null,
   "metadata": {
    "deletable": false,
    "editable": false,
    "nbgrader": {
     "cell_type": "code",
     "checksum": "c9933829dfc40b257321ec67db7ee497",
     "grade": false,
     "grade_id": "cell-baea1194b3fbd09f",
     "locked": true,
     "schema_version": 3,
     "solution": false,
     "task": false
    }
   },
   "outputs": [],
   "source": [
    "# import some useful things\n",
    "# you can read up more at https://ipython.readthedocs.io/en/stable/api/generated/IPython.display.html\n",
    "from IPython.display import display, Image\n",
    "\n",
    "# create an image object given the file\n",
    "image = Image('/coursedata/00-intro/welcome.jpg')\n",
    "\n",
    "### TASK 2 ###\n",
    "# Display the image by typing \"display(image)\" into the cell below."
   ]
  },
  {
   "cell_type": "code",
   "execution_count": null,
   "metadata": {
    "deletable": false,
    "nbgrader": {
     "cell_type": "code",
     "checksum": "455555e8e8aff221031a100087560b3d",
     "grade": true,
     "grade_id": "image",
     "locked": false,
     "points": 1,
     "schema_version": 3,
     "solution": true,
     "task": false
    }
   },
   "outputs": [],
   "source": [
    "# YOUR CODE HERE\n",
    "raise NotImplementedError()"
   ]
  },
  {
   "cell_type": "markdown",
   "metadata": {
    "deletable": false,
    "editable": false,
    "nbgrader": {
     "cell_type": "markdown",
     "checksum": "4ee2b54e137513eb51dde1d21d82a74b",
     "grade": false,
     "grade_id": "cell-69ae2cf25699648d",
     "locked": true,
     "schema_version": 3,
     "solution": false,
     "task": false
    }
   },
   "source": [
    "## TASK 3 <a class=\"anchor\" id=\"task_3\"></a>\n",
    "### ENCODE TO PIG LATIN\n",
    "\n",
    "**Pig Latin** aka **Igpay Atinlay** is a \"secret language\" (or a word game) that encodes words in English by\n",
    "* **1** removing the first consonant or consonant sequence to the end of a word (pig -> igp)\n",
    "* **2** adding \"ay\" to the end of the word (igp -> igpay)\n",
    "* **3** just adding \"ay\" to the end of the word if the word starts with a vowel (owl -> owlay)\n",
    "\n",
    "Let's assume that the letters corresponding to English vowels in the beginning of the words are **A**, **E**, **I**, **O**, **U**, and **W**. Consider all other letters as consonants here (this assumption doesn't always hold in real life: **H** in \"honest\" produces a vowel)\n",
    "\n",
    "Complete the `pig_lating()` function with you code after '**# YOUR CODE HERE**' comment.\n",
    "\n",
    "Don't forget to delete `raise NotImplementedError()` when you're done with your answer!\n",
    "\n",
    "This task introduces autograded code answers. There are some visible tests and some hidden tests for your answer. Hidden tests help us make sure your functions actually work. Don't rely on visible tests alone in further assignments, they might not cover all the corner cases. For example, in this task, there are no visible tests for words starting with vowels. So we encourage you to write your own tests, but we will try to keep visible tests as helpful as possible."
   ]
  },
  {
   "cell_type": "code",
   "execution_count": null,
   "metadata": {
    "deletable": false,
    "nbgrader": {
     "cell_type": "code",
     "checksum": "cac36e2509a0ab08812779628b8e74ea",
     "grade": false,
     "grade_id": "cell-ac45826d04abe6df",
     "locked": false,
     "schema_version": 3,
     "solution": true,
     "task": false
    }
   },
   "outputs": [],
   "source": [
    "def pig_latin(word):\n",
    "    \"\"\"This function takes in a word and outputs its Pig Latin translation\n",
    "    \n",
    "    Parameters\n",
    "    ----------\n",
    "    word - str\n",
    "        a word to translate to Pig Latin\n",
    "    \n",
    "    Returns\n",
    "    -------\n",
    "    pig_word - str\n",
    "        a word translated into Pig Latin as a string\n",
    "    \n",
    "    \"\"\"\n",
    "    # YOUR CODE HERE\n",
    "    raise NotImplementedError()\n",
    "    return pig_word"
   ]
  },
  {
   "cell_type": "code",
   "execution_count": null,
   "metadata": {
    "deletable": false,
    "editable": false,
    "nbgrader": {
     "cell_type": "code",
     "checksum": "775045c80d143a8cd18d61262025ded9",
     "grade": true,
     "grade_id": "pig_latin",
     "locked": true,
     "points": 3,
     "schema_version": 3,
     "solution": false,
     "task": false
    }
   },
   "outputs": [],
   "source": [
    "from nose.tools import assert_equal\n",
    "\n",
    "assert_equal(pig_latin(\"sort\"), \"ortsay\")\n",
    "assert_equal(pig_latin(\"smile\"), \"ilesmay\")\n",
    "assert_equal(pig_latin(\"snlp\"), \"snlpay\")\n"
   ]
  },
  {
   "cell_type": "markdown",
   "metadata": {
    "deletable": false,
    "editable": false,
    "nbgrader": {
     "cell_type": "markdown",
     "checksum": "1a3c0c4ab9080ca9e4d455a8cfaf9212",
     "grade": false,
     "grade_id": "cell-42ac85a354cbac37",
     "locked": true,
     "schema_version": 3,
     "solution": false,
     "task": false
    }
   },
   "source": [
    "## TASK 4 <a class=\"anchor\" id=\"task_4\"></a>\n",
    "### DECODE FROM PIG LATIN\n",
    "\n",
    "Let's see if you can translate Pig Latin back to English. What is **etchfay** in English? Type the English string as a value of the `translation_to_english` variable in the cell below.\n",
    "\n",
    "Don't forget to delete `raise NotImplementedError()` when you're done with your answer!\n",
    "\n",
    "We will use this type of tasks when we want to autograde short answers containing a string or some number."
   ]
  },
  {
   "cell_type": "code",
   "execution_count": null,
   "metadata": {
    "deletable": false,
    "nbgrader": {
     "cell_type": "code",
     "checksum": "1874e5777727e301d15c747a945018ae",
     "grade": false,
     "grade_id": "cell-ffe0cd0dbc776620",
     "locked": false,
     "schema_version": 3,
     "solution": true,
     "task": false
    }
   },
   "outputs": [],
   "source": [
    "# YOUR CODE HERE\n",
    "raise NotImplementedError()\n",
    "\n",
    "# put the translation as a lowercase string into a variable below\n",
    "# For example:\n",
    "# translation_to_english = 'translation'\n",
    "translation_to_english = None ## FILL IN THE ANSWER"
   ]
  },
  {
   "cell_type": "code",
   "execution_count": null,
   "metadata": {
    "deletable": false,
    "editable": false,
    "nbgrader": {
     "cell_type": "code",
     "checksum": "cb19839a0eb4dad26a4780038a7b109e",
     "grade": true,
     "grade_id": "cell-4ab1756a6181334f",
     "locked": true,
     "points": 1,
     "schema_version": 3,
     "solution": false,
     "task": false
    }
   },
   "outputs": [],
   "source": [
    "assert_equal(translation_to_english, \"fetch\")"
   ]
  },
  {
   "cell_type": "markdown",
   "metadata": {
    "deletable": false,
    "editable": false,
    "nbgrader": {
     "cell_type": "markdown",
     "checksum": "a97251fb78a77d003bc1a2388b6b86a6",
     "grade": false,
     "grade_id": "cell-e7a854cde921f5ec",
     "locked": true,
     "schema_version": 3,
     "solution": false,
     "task": false
    }
   },
   "source": [
    "## VALIDATE and SUBMIT! <a class=\"anchor\" id=\"validate_and_submit\"></a>\n",
    "### 1\n",
    "Click the **Validate** button in the upper menu to check that you haven't missed anything.\n",
    "### 2\n",
    "To submit the notebook, click on the **jupyterhub** logo in the upper left part of the window, choose the **Assignments** folder, and press **submit**. You can submit multiple times, only the last one counts.\n",
    "### 3 \n",
    "Please fill in the feedback form in the Assignment section of Mycoures."
   ]
  }
 ],
 "metadata": {
  "kernelspec": {
   "display_name": "Python 3",
   "language": "python",
   "name": "python3"
  },
  "language_info": {
   "codemirror_mode": {
    "name": "ipython",
    "version": 3
   },
   "file_extension": ".py",
   "mimetype": "text/x-python",
   "name": "python",
   "nbconvert_exporter": "python",
   "pygments_lexer": "ipython3",
   "version": "3.7.3"
  },
  "varInspector": {
   "cols": {
    "lenName": 16,
    "lenType": 16,
    "lenVar": 40
   },
   "kernels_config": {
    "python": {
     "delete_cmd_postfix": "",
     "delete_cmd_prefix": "del ",
     "library": "var_list.py",
     "varRefreshCmd": "print(var_dic_list())"
    },
    "r": {
     "delete_cmd_postfix": ") ",
     "delete_cmd_prefix": "rm(",
     "library": "var_list.r",
     "varRefreshCmd": "cat(var_dic_list()) "
    }
   },
   "types_to_exclude": [
    "module",
    "function",
    "builtin_function_or_method",
    "instance",
    "_Feature"
   ],
   "window_display": false
  }
 },
 "nbformat": 4,
 "nbformat_minor": 2
}
